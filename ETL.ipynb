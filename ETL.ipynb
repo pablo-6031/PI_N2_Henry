{
 "cells": [
  {
   "cell_type": "markdown",
   "id": "9dda3bfa",
   "metadata": {},
   "source": [
    "# ETL"
   ]
  },
  {
   "cell_type": "code",
   "execution_count": 10,
   "id": "8bf8e2a2",
   "metadata": {},
   "outputs": [
    {
     "name": "stderr",
     "output_type": "stream",
     "text": [
      "C:\\Users\\pablo\\AppData\\Local\\Temp\\ipykernel_23748\\431718314.py:13: FutureWarning: DataFrame.fillna with 'method' is deprecated and will raise in a future version. Use obj.ffill() or obj.bfill() instead.\n",
      "  df = df.fillna(method='ffill')  # Rellenar valores faltantes con el último valor válido\n",
      "C:\\Users\\pablo\\AppData\\Local\\Temp\\ipykernel_23748\\431718314.py:13: FutureWarning: DataFrame.fillna with 'method' is deprecated and will raise in a future version. Use obj.ffill() or obj.bfill() instead.\n",
      "  df = df.fillna(method='ffill')  # Rellenar valores faltantes con el último valor válido\n"
     ]
    },
    {
     "name": "stdout",
     "output_type": "stream",
     "text": [
      "Proceso ETL completado para todas las hojas del dataset de Internet. Los datos limpios han sido guardados en un solo archivo Excel con hojas separadas.\n"
     ]
    }
   ],
   "source": [
    "import pandas as pd\n",
    "\n",
    "def load_data(file_path):\n",
    "    \"\"\"Carga todas las hojas del dataset de Internet desde la ruta especificada.\"\"\"\n",
    "    xls = pd.ExcelFile(file_path)\n",
    "    dataframes = {sheet: xls.parse(sheet) for sheet in xls.sheet_names}\n",
    "    return dataframes\n",
    "\n",
    "def clean_data(df):\n",
    "    \"\"\"Realiza limpieza de datos generales en un DataFrame de Internet.\"\"\"\n",
    "    df = df.drop_duplicates()\n",
    "    df = df.dropna(how='all')  # Eliminar filas completamente vacías\n",
    "    df = df.fillna(method='ffill')  # Rellenar valores faltantes con el último valor válido\n",
    "    return df\n",
    "\n",
    "def transform_data(df, sheet_name):\n",
    "    \"\"\"Realiza transformaciones específicas para cada hoja del dataset de Internet.\"\"\"\n",
    "    if sheet_name in [\"Acc_vel_loc_sinrangos\", \"Velocidad_sin_Rangos\", \"Accesos_por_velocidad\"]:\n",
    "        if 'Velocidad (Mbps)' in df.columns:\n",
    "            df['Velocidad (Mbps)'] = df['Velocidad (Mbps)'].astype(str).str.replace(',', '.')\n",
    "            df['Velocidad (Mbps)'] = pd.to_numeric(df['Velocidad (Mbps)'], errors='coerce')\n",
    "    elif sheet_name in [\"Accesos_tecnologia_localidad\", \"Totales Accesos Por Tecnología\", \"Accesos Por Tecnología\"]:\n",
    "        if 'Accesos' in df.columns:\n",
    "            df['Accesos'] = pd.to_numeric(df['Accesos'], errors='coerce').fillna(0).astype(int)\n",
    "    elif sheet_name == \"Ingresos\":\n",
    "        if 'Ingresos' in df.columns:\n",
    "            df['Ingresos'] = pd.to_numeric(df['Ingresos'], errors='coerce').fillna(0)\n",
    "    return df\n",
    "\n",
    "def save_cleaned_data_to_excel(dataframes, output_file):\n",
    "    \"\"\"Guarda todos los DataFrames limpios en un solo archivo Excel con hojas separadas.\"\"\"\n",
    "    with pd.ExcelWriter(output_file, engine='xlsxwriter') as writer:\n",
    "        for sheet_name, df in dataframes.items():\n",
    "            df.to_excel(writer, sheet_name=sheet_name, index=False)\n",
    "    \n",
    "# Ruta del archivo y directorio de salida\n",
    "file_path = './DataSets/Internet.xlsx'\n",
    "output_file = './Datasets_limpio/Internet_cleaned.xlsx'\n",
    "\n",
    "# Ejecución del ETL\n",
    "dataframes = load_data(file_path)\n",
    "cleaned_dataframes = {name: clean_data(df) for name, df in dataframes.items()}\n",
    "transformed_dataframes = {name: transform_data(df, name) for name, df in cleaned_dataframes.items()}\n",
    "save_cleaned_data_to_excel(transformed_dataframes, output_file)\n",
    "\n",
    "print(\"Proceso ETL completado para todas las hojas del dataset de Internet. Los datos limpios han sido guardados en un solo archivo Excel con hojas separadas.\")\n",
    "\n",
    "    \n",
    "    "
   ]
  }
 ],
 "metadata": {
  "kernelspec": {
   "display_name": "Python 3",
   "language": "python",
   "name": "python3"
  },
  "language_info": {
   "codemirror_mode": {
    "name": "ipython",
    "version": 3
   },
   "file_extension": ".py",
   "mimetype": "text/x-python",
   "name": "python",
   "nbconvert_exporter": "python",
   "pygments_lexer": "ipython3",
   "version": "3.11.9"
  }
 },
 "nbformat": 4,
 "nbformat_minor": 5
}
